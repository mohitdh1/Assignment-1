{
 "cells": [
  {
   "cell_type": "markdown",
   "id": "dbb47207",
   "metadata": {},
   "source": [
    "Q1. In the below elements which of them are values or an expression? eg:- values can be\n",
    "integer or string and expressions will be mathematical operators."
   ]
  },
  {
   "cell_type": "markdown",
   "id": "d371f6d9",
   "metadata": {},
   "source": [
    "# * is an mathematical operator\n",
    "a=2\n",
    "b=3\n",
    "a*b#here * is multiplying a and b\n",
    "* is expression"
   ]
  },
  {
   "cell_type": "markdown",
   "id": "cad064ab",
   "metadata": {},
   "source": [
    "'hello' this is a string, so this is a value"
   ]
  },
  {
   "cell_type": "markdown",
   "id": "dfa2f0e1",
   "metadata": {},
   "source": [
    "-87.8 this is a float.So this is a value"
   ]
  },
  {
   "cell_type": "markdown",
   "id": "e8a247c7",
   "metadata": {},
   "source": [
    "- is an expression"
   ]
  },
  {
   "cell_type": "markdown",
   "id": "2a348e6b",
   "metadata": {},
   "source": [
    "/ is an expression, it divides to numbers and give output as an floating number."
   ]
  },
  {
   "cell_type": "markdown",
   "id": "63490eb2",
   "metadata": {},
   "source": [
    "+ is also an expression"
   ]
  },
  {
   "cell_type": "markdown",
   "id": "47782e68",
   "metadata": {},
   "source": [
    "6 is an integer here so it will count as a value"
   ]
  },
  {
   "cell_type": "markdown",
   "id": "6b4c4d1b",
   "metadata": {},
   "source": [
    "Q2.What is the difference between string and variable?"
   ]
  },
  {
   "cell_type": "markdown",
   "id": "16014f22",
   "metadata": {},
   "source": [
    "A Variable is a store of information, and a String is a type of information you would store in a Variable. string can be denoted by \"\"."
   ]
  },
  {
   "cell_type": "markdown",
   "id": "6e77fe98",
   "metadata": {},
   "source": [
    "Q3.Describe three different data types.\n",
    "Integer:- Integer value can be any length such as integers 10, 2, 29, -20, -150 etc. Python has no restriction on the length of an integer. Its value belongs to int.\n",
    "\n",
    "Float - Float is used to store floating-point numbers like 1.9, 9.902, 15.2, etc. It is accurate upto 15 decimal points.\n",
    "\n",
    "String - The string can be defined as the sequence of characters represented in the quotation marks. In Python, we can use single, double, or triple quotes to define a string.\n",
    "\"hello world\""
   ]
  },
  {
   "cell_type": "markdown",
   "id": "25f719a2",
   "metadata": {},
   "source": [
    "Q4-What is an expression made up of? What do all expressions do?\n",
    "\n",
    "An expression is a combination of operators and operands that is interpreted to produce some other value. In any programming language, an expression is evaluated as per the precedence of its operators.\n",
    "\n"
   ]
  },
  {
   "cell_type": "markdown",
   "id": "14015cff",
   "metadata": {},
   "source": [
    "Q5- This assignment statements, like spam = 10. What is the difference between an\n",
    "expression and a statement?\n",
    "\n",
    "An expression can be defined as any element in our utility that evaluates some values. An expression evaluates a value.\n",
    "Statements represent a motion or command e.g print statements. Expressions need to be evaluated."
   ]
  },
  {
   "cell_type": "markdown",
   "id": "d1ca8797",
   "metadata": {},
   "source": [
    "Q6- After running the following code, what does the variable bacon contain?\n",
    "bacon = 22\n",
    "bacon + 1\n",
    "\n",
    "The bacon variable contains the value 22. The bacon + 1 expression does not reassign the value in bacon(correct method is bacon+=1)\n"
   ]
  },
  {
   "cell_type": "markdown",
   "id": "212c7fb5",
   "metadata": {},
   "source": [
    "Q7-What should the values of the following two terms be?\n",
    "'spam'+'spamspam'\n",
    "'spam'*3\n",
    "\n",
    "Both expressions evaluate to the string 'spamspamspam'"
   ]
  },
  {
   "cell_type": "markdown",
   "id": "e9add50a",
   "metadata": {},
   "source": [
    "Q8-Why is eggs a valid variable name while 100 is invalid?\n",
    "\n",
    "In python variable cannot be starts with a number so eggs is a valid variable."
   ]
  },
  {
   "cell_type": "markdown",
   "id": "50513af6",
   "metadata": {},
   "source": [
    "Q9-What three functions can be used to get the integer, floating-point number, or string\n",
    "version of a value?\n",
    "\n",
    "int(), float() and str()"
   ]
  },
  {
   "cell_type": "code",
   "execution_count": 11,
   "id": "8d33d7fb",
   "metadata": {},
   "outputs": [
    {
     "data": {
      "text/plain": [
       "'I have eaten 99 burritos.'"
      ]
     },
     "execution_count": 11,
     "metadata": {},
     "output_type": "execute_result"
    }
   ],
   "source": [
    "#10-Why does this expression cause an error? How can you fix it? 'I have eaten' + 99 + 'burritos.'\n",
    "\n",
    "'I have eaten'+' 99 '+'burritos.'"
   ]
  },
  {
   "cell_type": "code",
   "execution_count": null,
   "id": "5dd73969",
   "metadata": {},
   "outputs": [],
   "source": []
  }
 ],
 "metadata": {
  "kernelspec": {
   "display_name": "Python 3 (ipykernel)",
   "language": "python",
   "name": "python3"
  },
  "language_info": {
   "codemirror_mode": {
    "name": "ipython",
    "version": 3
   },
   "file_extension": ".py",
   "mimetype": "text/x-python",
   "name": "python",
   "nbconvert_exporter": "python",
   "pygments_lexer": "ipython3",
   "version": "3.9.7"
  }
 },
 "nbformat": 4,
 "nbformat_minor": 5
}
